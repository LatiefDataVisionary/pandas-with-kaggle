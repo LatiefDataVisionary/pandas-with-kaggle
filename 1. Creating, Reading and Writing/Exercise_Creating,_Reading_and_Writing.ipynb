{
  "metadata": {
    "kernelspec": {
      "display_name": "Python 3",
      "language": "python",
      "name": "python3"
    },
    "language_info": {
      "name": "python",
      "version": "3.11.13",
      "mimetype": "text/x-python",
      "codemirror_mode": {
        "name": "ipython",
        "version": 3
      },
      "pygments_lexer": "ipython3",
      "nbconvert_exporter": "python",
      "file_extension": ".py"
    },
    "kaggle": {
      "accelerator": "none",
      "dataSources": [
        {
          "sourceId": 1252,
          "sourceType": "datasetVersion",
          "datasetId": 655
        },
        {
          "sourceId": 3919,
          "sourceType": "datasetVersion",
          "datasetId": 2321
        },
        {
          "sourceId": 4877,
          "sourceType": "datasetVersion",
          "datasetId": 2894
        },
        {
          "sourceId": 5624,
          "sourceType": "datasetVersion",
          "datasetId": 3491
        },
        {
          "sourceId": 8172,
          "sourceType": "datasetVersion",
          "datasetId": 1442
        },
        {
          "sourceId": 13206,
          "sourceType": "datasetVersion",
          "datasetId": 9366
        },
        {
          "sourceId": 403916,
          "sourceType": "datasetVersion",
          "datasetId": 179555
        },
        {
          "sourceId": 466349,
          "sourceType": "datasetVersion",
          "datasetId": 4549
        },
        {
          "sourceId": 1151655,
          "sourceType": "datasetVersion",
          "datasetId": 2478
        },
        {
          "sourceId": 5438389,
          "sourceType": "datasetVersion",
          "datasetId": 10128
        }
      ],
      "isInternetEnabled": false,
      "language": "python",
      "sourceType": "notebook",
      "isGpuEnabled": false
    },
    "colab": {
      "name": "Exercise: Creating, Reading and Writing",
      "provenance": [],
      "include_colab_link": true
    }
  },
  "nbformat_minor": 0,
  "nbformat": 4,
  "cells": [
    {
      "cell_type": "markdown",
      "metadata": {
        "id": "view-in-github",
        "colab_type": "text"
      },
      "source": [
        "<a href=\"https://colab.research.google.com/github/LatiefDataVisionary/pandas-with-kaggle/blob/main/Exercise_Creating%2C_Reading_and_Writing.ipynb\" target=\"_parent\"><img src=\"https://colab.research.google.com/assets/colab-badge.svg\" alt=\"Open In Colab\"/></a>"
      ]
    },
    {
      "source": [
        "# IMPORTANT: RUN THIS CELL IN ORDER TO IMPORT YOUR KAGGLE DATA SOURCES,\n",
        "# THEN FEEL FREE TO DELETE THIS CELL.\n",
        "# NOTE: THIS NOTEBOOK ENVIRONMENT DIFFERS FROM KAGGLE'S PYTHON\n",
        "# ENVIRONMENT SO THERE MAY BE MISSING LIBRARIES USED BY YOUR\n",
        "# NOTEBOOK.\n",
        "import kagglehub\n",
        "nolanbconaway_pitchfork_data_path = kagglehub.dataset_download('nolanbconaway/pitchfork-data')\n",
        "datasnaek_chess_path = kagglehub.dataset_download('datasnaek/chess')\n",
        "nasa_kepler_exoplanet_search_results_path = kagglehub.dataset_download('nasa/kepler-exoplanet-search-results')\n",
        "residentmario_things_on_reddit_path = kagglehub.dataset_download('residentmario/things-on-reddit')\n",
        "zynicide_wine_reviews_path = kagglehub.dataset_download('zynicide/wine-reviews')\n",
        "residentmario_ramen_ratings_path = kagglehub.dataset_download('residentmario/ramen-ratings')\n",
        "dansbecker_powerlifting_database_path = kagglehub.dataset_download('dansbecker/powerlifting-database')\n",
        "datasnaek_youtube_new_path = kagglehub.dataset_download('datasnaek/youtube-new')\n",
        "rtatman_188_million_us_wildfires_path = kagglehub.dataset_download('rtatman/188-million-us-wildfires')\n",
        "jpmiller_publicassistance_path = kagglehub.dataset_download('jpmiller/publicassistance')\n",
        "\n",
        "print('Data source import complete.')\n"
      ],
      "metadata": {
        "id": "rIXoiQlU6vZD"
      },
      "cell_type": "code",
      "outputs": [],
      "execution_count": null
    },
    {
      "cell_type": "markdown",
      "source": [
        "**This notebook is an exercise in the [Pandas](https://www.kaggle.com/learn/pandas) course.  You can reference the tutorial at [this link](https://www.kaggle.com/residentmario/creating-reading-and-writing).**\n",
        "\n",
        "---\n"
      ],
      "metadata": {
        "id": "ljkvZWnb6vZK"
      }
    },
    {
      "cell_type": "markdown",
      "source": [
        "# Introduction\n",
        "\n",
        "The first step in most data analytics projects is reading the data file. In this exercise, you'll create Series and DataFrame objects, both by hand and by reading data files.\n",
        "\n",
        "Run the code cell below to load libraries you will need (including code to check your answers)."
      ],
      "metadata": {
        "id": "QPzUlXP-6vZN"
      }
    },
    {
      "cell_type": "code",
      "source": [
        "import pandas as pd\n",
        "pd.set_option('display.max_rows', 5)\n",
        "from learntools.core import binder; binder.bind(globals())\n",
        "from learntools.pandas.creating_reading_and_writing import *\n",
        "print(\"Setup complete.\")"
      ],
      "metadata": {
        "trusted": true,
        "execution": {
          "iopub.status.busy": "2025-07-15T07:28:03.745048Z",
          "iopub.execute_input": "2025-07-15T07:28:03.745802Z",
          "iopub.status.idle": "2025-07-15T07:28:06.28245Z",
          "shell.execute_reply.started": "2025-07-15T07:28:03.745771Z",
          "shell.execute_reply": "2025-07-15T07:28:06.281592Z"
        },
        "id": "eCOlReTW6vZO",
        "outputId": "703711c2-e6f7-4234-aacd-9d774b8ca105"
      },
      "outputs": [
        {
          "name": "stdout",
          "text": "Setup complete.\n",
          "output_type": "stream"
        }
      ],
      "execution_count": null
    },
    {
      "cell_type": "markdown",
      "source": [
        "# Exercises"
      ],
      "metadata": {
        "id": "Mimlbx3N6vZR"
      }
    },
    {
      "cell_type": "markdown",
      "source": [
        "## 1.\n",
        "\n",
        "In the cell below, create a DataFrame `fruits` that looks like this:\n",
        "\n",
        "![](https://storage.googleapis.com/kaggle-media/learn/images/Ax3pp2A.png)"
      ],
      "metadata": {
        "id": "JtAytI5V6vZS"
      }
    },
    {
      "cell_type": "code",
      "source": [
        "# Your code goes here. Create a dataframe matching the above diagram and assign it to the variable fruits.\n",
        "fruits = pd.DataFrame({'Apples': [30],\n",
        "         'Bananas': [21]})\n",
        "\n",
        "# Check your answer\n",
        "q1.check()\n",
        "fruits"
      ],
      "metadata": {
        "trusted": true,
        "execution": {
          "iopub.status.busy": "2025-07-15T07:33:34.106649Z",
          "iopub.execute_input": "2025-07-15T07:33:34.106942Z",
          "iopub.status.idle": "2025-07-15T07:33:34.131812Z",
          "shell.execute_reply.started": "2025-07-15T07:33:34.106922Z",
          "shell.execute_reply": "2025-07-15T07:33:34.131074Z"
        },
        "id": "UtcJhism6vZT",
        "outputId": "6ca520c7-3f3c-4873-b11d-6b373b687a9b"
      },
      "outputs": [
        {
          "output_type": "display_data",
          "data": {
            "text/plain": "<IPython.core.display.Javascript object>",
            "application/javascript": "parent.postMessage({\"jupyterEvent\": \"custom.exercise_interaction\", \"data\": {\"outcomeType\": 1, \"valueTowardsCompletion\": 0.16666666666666666, \"interactionType\": 1, \"questionType\": 1, \"questionId\": \"1_FruitDfCreation\", \"learnToolsVersion\": \"0.3.5\", \"failureMessage\": \"\", \"exceptionClass\": \"\", \"trace\": \"\"}}, \"*\")"
          },
          "metadata": {}
        },
        {
          "output_type": "display_data",
          "data": {
            "text/plain": "Correct",
            "text/markdown": "<span style=\"color:#33cc33\">Correct</span>"
          },
          "metadata": {}
        },
        {
          "execution_count": 10,
          "output_type": "execute_result",
          "data": {
            "text/plain": "   Apples  Bananas\n0      30       21",
            "text/html": "<div>\n<style scoped>\n    .dataframe tbody tr th:only-of-type {\n        vertical-align: middle;\n    }\n\n    .dataframe tbody tr th {\n        vertical-align: top;\n    }\n\n    .dataframe thead th {\n        text-align: right;\n    }\n</style>\n<table border=\"1\" class=\"dataframe\">\n  <thead>\n    <tr style=\"text-align: right;\">\n      <th></th>\n      <th>Apples</th>\n      <th>Bananas</th>\n    </tr>\n  </thead>\n  <tbody>\n    <tr>\n      <th>0</th>\n      <td>30</td>\n      <td>21</td>\n    </tr>\n  </tbody>\n</table>\n</div>"
          },
          "metadata": {}
        }
      ],
      "execution_count": null
    },
    {
      "cell_type": "code",
      "source": [
        "#q1.hint()\n",
        "q1.solution()"
      ],
      "metadata": {
        "trusted": true,
        "execution": {
          "iopub.status.busy": "2025-07-15T07:33:58.512855Z",
          "iopub.execute_input": "2025-07-15T07:33:58.513741Z",
          "iopub.status.idle": "2025-07-15T07:33:58.51998Z",
          "shell.execute_reply.started": "2025-07-15T07:33:58.513708Z",
          "shell.execute_reply": "2025-07-15T07:33:58.519236Z"
        },
        "id": "53c3QONn6vZU",
        "outputId": "3d6834a8-015f-46b9-cbdd-d1ca92be4148"
      },
      "outputs": [
        {
          "output_type": "display_data",
          "data": {
            "text/plain": "<IPython.core.display.Javascript object>",
            "application/javascript": "parent.postMessage({\"jupyterEvent\": \"custom.exercise_interaction\", \"data\": {\"interactionType\": 3, \"questionType\": 1, \"questionId\": \"1_FruitDfCreation\", \"learnToolsVersion\": \"0.3.5\", \"valueTowardsCompletion\": 0.0, \"failureMessage\": \"\", \"exceptionClass\": \"\", \"trace\": \"\", \"outcomeType\": 4}}, \"*\")"
          },
          "metadata": {}
        },
        {
          "output_type": "display_data",
          "data": {
            "text/plain": "Solution: \n```python\nfruits = pd.DataFrame([[30, 21]], columns=['Apples', 'Bananas'])\n```",
            "text/markdown": "<span style=\"color:#33cc99\">Solution:</span> \n```python\nfruits = pd.DataFrame([[30, 21]], columns=['Apples', 'Bananas'])\n```"
          },
          "metadata": {}
        }
      ],
      "execution_count": null
    },
    {
      "cell_type": "markdown",
      "source": [
        "## 2.\n",
        "\n",
        "Create a dataframe `fruit_sales` that matches the diagram below:\n",
        "\n",
        "![](https://storage.googleapis.com/kaggle-media/learn/images/CHPn7ZF.png)"
      ],
      "metadata": {
        "id": "H5EQ84Ls6vZV"
      }
    },
    {
      "cell_type": "code",
      "source": [
        "# Your code goes here. Create a dataframe matching the above diagram and assign it to the variable fruit_sales.\n",
        "fruit_sales = pd.DataFrame({'Apples': [35, 41],\n",
        "         'Bananas': [21, 34]}, index=['2017 Sales', '2018 Sales'])\n",
        "\n",
        "# Check your answer\n",
        "q2.check()\n",
        "fruit_sales"
      ],
      "metadata": {
        "trusted": true,
        "execution": {
          "iopub.status.busy": "2025-07-15T07:37:19.514305Z",
          "iopub.execute_input": "2025-07-15T07:37:19.515054Z",
          "iopub.status.idle": "2025-07-15T07:37:19.527068Z",
          "shell.execute_reply.started": "2025-07-15T07:37:19.515024Z",
          "shell.execute_reply": "2025-07-15T07:37:19.526464Z"
        },
        "id": "c-lljh5P6vZW",
        "outputId": "9d626a4c-60e5-410c-b292-405d66053c86"
      },
      "outputs": [
        {
          "output_type": "display_data",
          "data": {
            "text/plain": "<IPython.core.display.Javascript object>",
            "application/javascript": "parent.postMessage({\"jupyterEvent\": \"custom.exercise_interaction\", \"data\": {\"outcomeType\": 1, \"valueTowardsCompletion\": 0.16666666666666666, \"interactionType\": 1, \"questionType\": 1, \"questionId\": \"2_FruitSalesDfCreation\", \"learnToolsVersion\": \"0.3.5\", \"failureMessage\": \"\", \"exceptionClass\": \"\", \"trace\": \"\"}}, \"*\")"
          },
          "metadata": {}
        },
        {
          "output_type": "display_data",
          "data": {
            "text/plain": "Correct",
            "text/markdown": "<span style=\"color:#33cc33\">Correct</span>"
          },
          "metadata": {}
        },
        {
          "execution_count": 17,
          "output_type": "execute_result",
          "data": {
            "text/plain": "            Apples  Bananas\n2017 Sales      35       21\n2018 Sales      41       34",
            "text/html": "<div>\n<style scoped>\n    .dataframe tbody tr th:only-of-type {\n        vertical-align: middle;\n    }\n\n    .dataframe tbody tr th {\n        vertical-align: top;\n    }\n\n    .dataframe thead th {\n        text-align: right;\n    }\n</style>\n<table border=\"1\" class=\"dataframe\">\n  <thead>\n    <tr style=\"text-align: right;\">\n      <th></th>\n      <th>Apples</th>\n      <th>Bananas</th>\n    </tr>\n  </thead>\n  <tbody>\n    <tr>\n      <th>2017 Sales</th>\n      <td>35</td>\n      <td>21</td>\n    </tr>\n    <tr>\n      <th>2018 Sales</th>\n      <td>41</td>\n      <td>34</td>\n    </tr>\n  </tbody>\n</table>\n</div>"
          },
          "metadata": {}
        }
      ],
      "execution_count": null
    },
    {
      "cell_type": "code",
      "source": [
        "q2.hint()\n",
        "q2.solution()"
      ],
      "metadata": {
        "trusted": true,
        "execution": {
          "iopub.status.busy": "2025-07-15T07:37:29.514147Z",
          "iopub.execute_input": "2025-07-15T07:37:29.514918Z",
          "iopub.status.idle": "2025-07-15T07:37:29.524128Z",
          "shell.execute_reply.started": "2025-07-15T07:37:29.51489Z",
          "shell.execute_reply": "2025-07-15T07:37:29.523178Z"
        },
        "id": "FoY3sOND6vZX",
        "outputId": "358dc2d8-8886-40bb-8e45-ce9f37420f5f"
      },
      "outputs": [
        {
          "output_type": "display_data",
          "data": {
            "text/plain": "<IPython.core.display.Javascript object>",
            "application/javascript": "parent.postMessage({\"jupyterEvent\": \"custom.exercise_interaction\", \"data\": {\"interactionType\": 2, \"questionType\": 1, \"questionId\": \"2_FruitSalesDfCreation\", \"learnToolsVersion\": \"0.3.5\", \"valueTowardsCompletion\": 0.0, \"failureMessage\": \"\", \"exceptionClass\": \"\", \"trace\": \"\", \"outcomeType\": 4}}, \"*\")"
          },
          "metadata": {}
        },
        {
          "output_type": "display_data",
          "data": {
            "text/plain": "Hint: Set the row labels in the DataFrame by using the `index` parameter in `pd.DataFrame`.",
            "text/markdown": "<span style=\"color:#3366cc\">Hint:</span> Set the row labels in the DataFrame by using the `index` parameter in `pd.DataFrame`."
          },
          "metadata": {}
        },
        {
          "output_type": "display_data",
          "data": {
            "text/plain": "<IPython.core.display.Javascript object>",
            "application/javascript": "parent.postMessage({\"jupyterEvent\": \"custom.exercise_interaction\", \"data\": {\"interactionType\": 3, \"questionType\": 1, \"questionId\": \"2_FruitSalesDfCreation\", \"learnToolsVersion\": \"0.3.5\", \"valueTowardsCompletion\": 0.0, \"failureMessage\": \"\", \"exceptionClass\": \"\", \"trace\": \"\", \"outcomeType\": 4}}, \"*\")"
          },
          "metadata": {}
        },
        {
          "output_type": "display_data",
          "data": {
            "text/plain": "Solution: \n```python\nfruit_sales = pd.DataFrame([[35, 21], [41, 34]], columns=['Apples', 'Bananas'],\n                index=['2017 Sales', '2018 Sales'])\n```",
            "text/markdown": "<span style=\"color:#33cc99\">Solution:</span> \n```python\nfruit_sales = pd.DataFrame([[35, 21], [41, 34]], columns=['Apples', 'Bananas'],\n                index=['2017 Sales', '2018 Sales'])\n```"
          },
          "metadata": {}
        }
      ],
      "execution_count": null
    },
    {
      "cell_type": "markdown",
      "source": [
        "## 3.\n",
        "\n",
        "Create a variable `ingredients` with a Series that looks like:\n",
        "\n",
        "```\n",
        "Flour     4 cups\n",
        "Milk       1 cup\n",
        "Eggs     2 large\n",
        "Spam       1 can\n",
        "Name: Dinner, dtype: object\n",
        "```"
      ],
      "metadata": {
        "id": "-N1ANJYw6vZY"
      }
    },
    {
      "cell_type": "code",
      "source": [
        "ingredients = pd.Series(\n",
        "    data = ['4 cups', '1 cup', '2 large', '1 can'],\n",
        "    index = ['Flour', 'Milk', 'Eggs', 'Spam'],\n",
        "    name = 'Dinner'\n",
        ")\n",
        "\n",
        "# Check your answer\n",
        "q3.check()\n",
        "ingredients"
      ],
      "metadata": {
        "trusted": true,
        "execution": {
          "iopub.status.busy": "2025-07-15T07:49:29.535867Z",
          "iopub.execute_input": "2025-07-15T07:49:29.536509Z",
          "iopub.status.idle": "2025-07-15T07:49:29.546331Z",
          "shell.execute_reply.started": "2025-07-15T07:49:29.536473Z",
          "shell.execute_reply": "2025-07-15T07:49:29.545706Z"
        },
        "id": "EBFUFcsP6vZZ",
        "outputId": "6920d59e-f2b1-4499-be08-34a4d07b25f6"
      },
      "outputs": [
        {
          "output_type": "display_data",
          "data": {
            "text/plain": "<IPython.core.display.Javascript object>",
            "application/javascript": "parent.postMessage({\"jupyterEvent\": \"custom.exercise_interaction\", \"data\": {\"outcomeType\": 1, \"valueTowardsCompletion\": 0.16666666666666666, \"interactionType\": 1, \"questionType\": 2, \"questionId\": \"3_RecipeSeriesCreation\", \"learnToolsVersion\": \"0.3.5\", \"failureMessage\": \"\", \"exceptionClass\": \"\", \"trace\": \"\"}}, \"*\")"
          },
          "metadata": {}
        },
        {
          "output_type": "display_data",
          "data": {
            "text/plain": "Correct",
            "text/markdown": "<span style=\"color:#33cc33\">Correct</span>"
          },
          "metadata": {}
        },
        {
          "execution_count": 21,
          "output_type": "execute_result",
          "data": {
            "text/plain": "Flour     4 cups\nMilk       1 cup\nEggs     2 large\nSpam       1 can\nName: Dinner, dtype: object"
          },
          "metadata": {}
        }
      ],
      "execution_count": null
    },
    {
      "cell_type": "code",
      "source": [
        "q3.hint()\n",
        "q3.solution()"
      ],
      "metadata": {
        "trusted": true,
        "execution": {
          "iopub.status.busy": "2025-07-15T07:49:34.273166Z",
          "iopub.execute_input": "2025-07-15T07:49:34.273472Z",
          "iopub.status.idle": "2025-07-15T07:49:34.28301Z",
          "shell.execute_reply.started": "2025-07-15T07:49:34.273417Z",
          "shell.execute_reply": "2025-07-15T07:49:34.282309Z"
        },
        "id": "nnWWkFWe6vZa",
        "outputId": "6ae415ce-885d-4716-f30d-0a102b981dde"
      },
      "outputs": [
        {
          "output_type": "display_data",
          "data": {
            "text/plain": "<IPython.core.display.Javascript object>",
            "application/javascript": "parent.postMessage({\"jupyterEvent\": \"custom.exercise_interaction\", \"data\": {\"interactionType\": 2, \"questionType\": 2, \"questionId\": \"3_RecipeSeriesCreation\", \"learnToolsVersion\": \"0.3.5\", \"valueTowardsCompletion\": 0.0, \"failureMessage\": \"\", \"exceptionClass\": \"\", \"trace\": \"\", \"outcomeType\": 4}}, \"*\")"
          },
          "metadata": {}
        },
        {
          "output_type": "display_data",
          "data": {
            "text/plain": "Hint: Note that the Series must be named `\"Dinner\"`. Use the `name` keyword-arg when creating your series.",
            "text/markdown": "<span style=\"color:#3366cc\">Hint:</span> Note that the Series must be named `\"Dinner\"`. Use the `name` keyword-arg when creating your series."
          },
          "metadata": {}
        },
        {
          "output_type": "display_data",
          "data": {
            "text/plain": "<IPython.core.display.Javascript object>",
            "application/javascript": "parent.postMessage({\"jupyterEvent\": \"custom.exercise_interaction\", \"data\": {\"interactionType\": 3, \"questionType\": 2, \"questionId\": \"3_RecipeSeriesCreation\", \"learnToolsVersion\": \"0.3.5\", \"valueTowardsCompletion\": 0.0, \"failureMessage\": \"\", \"exceptionClass\": \"\", \"trace\": \"\", \"outcomeType\": 4}}, \"*\")"
          },
          "metadata": {}
        },
        {
          "output_type": "display_data",
          "data": {
            "text/plain": "Solution: \n```python\nquantities = ['4 cups', '1 cup', '2 large', '1 can']\nitems = ['Flour', 'Milk', 'Eggs', 'Spam']\nrecipe = pd.Series(quantities, index=items, name='Dinner')\n```",
            "text/markdown": "<span style=\"color:#33cc99\">Solution:</span> \n```python\nquantities = ['4 cups', '1 cup', '2 large', '1 can']\nitems = ['Flour', 'Milk', 'Eggs', 'Spam']\nrecipe = pd.Series(quantities, index=items, name='Dinner')\n```"
          },
          "metadata": {}
        }
      ],
      "execution_count": null
    },
    {
      "cell_type": "markdown",
      "source": [
        "## 4.\n",
        "\n",
        "Read the following csv dataset of wine reviews into a DataFrame called `reviews`:\n",
        "\n",
        "![](https://storage.googleapis.com/kaggle-media/learn/images/74RCZtU.png)\n",
        "\n",
        "The filepath to the csv file is `../input/wine-reviews/winemag-data_first150k.csv`. The first few lines look like:\n",
        "\n",
        "```\n",
        ",country,description,designation,points,price,province,region_1,region_2,variety,winery\n",
        "0,US,\"This tremendous 100% varietal wine[...]\",Martha's Vineyard,96,235.0,California,Napa Valley,Napa,Cabernet Sauvignon,Heitz\n",
        "1,Spain,\"Ripe aromas of fig, blackberry and[...]\",Carodorum Selección Especial Reserva,96,110.0,Northern Spain,Toro,,Tinta de Toro,Bodega Carmen Rodríguez\n",
        "```"
      ],
      "metadata": {
        "id": "9LHLabsD6vZb"
      }
    },
    {
      "cell_type": "code",
      "source": [
        "reviews = pd.read_csv('../input/wine-reviews/winemag-data_first150k.csv', index_col=0)\n",
        "\n",
        "# Check your answer\n",
        "q4.check()\n",
        "reviews"
      ],
      "metadata": {
        "trusted": true,
        "execution": {
          "iopub.status.busy": "2025-07-15T07:57:26.702414Z",
          "iopub.execute_input": "2025-07-15T07:57:26.702739Z",
          "iopub.status.idle": "2025-07-15T07:57:27.704826Z",
          "shell.execute_reply.started": "2025-07-15T07:57:26.702718Z",
          "shell.execute_reply": "2025-07-15T07:57:27.703987Z"
        },
        "id": "nKs8H13f6vZc",
        "outputId": "097ee4ae-cd26-443f-a0aa-ad921c1eba21"
      },
      "outputs": [
        {
          "output_type": "display_data",
          "data": {
            "text/plain": "<IPython.core.display.Javascript object>",
            "application/javascript": "parent.postMessage({\"jupyterEvent\": \"custom.exercise_interaction\", \"data\": {\"outcomeType\": 1, \"valueTowardsCompletion\": 0.16666666666666666, \"interactionType\": 1, \"questionType\": 1, \"questionId\": \"4_ReadWineCsv\", \"learnToolsVersion\": \"0.3.5\", \"failureMessage\": \"\", \"exceptionClass\": \"\", \"trace\": \"\"}}, \"*\")"
          },
          "metadata": {}
        },
        {
          "output_type": "display_data",
          "data": {
            "text/plain": "Correct",
            "text/markdown": "<span style=\"color:#33cc33\">Correct</span>"
          },
          "metadata": {}
        },
        {
          "execution_count": 30,
          "output_type": "execute_result",
          "data": {
            "text/plain": "       country                                        description  \\\n0           US  This tremendous 100% varietal wine hails from ...   \n1        Spain  Ripe aromas of fig, blackberry and cassis are ...   \n...        ...                                                ...   \n150928  France  A perfect salmon shade, with scents of peaches...   \n150929   Italy  More Pinot Grigios should taste like this. A r...   \n\n                                 designation  points  price  \\\n0                          Martha's Vineyard      96  235.0   \n1       Carodorum Selección Especial Reserva      96  110.0   \n...                                      ...     ...    ...   \n150928                       Grand Brut Rosé      90   52.0   \n150929                                   NaN      90   15.0   \n\n                  province     region_1 region_2             variety  \\\n0               California  Napa Valley     Napa  Cabernet Sauvignon   \n1           Northern Spain         Toro      NaN       Tinta de Toro   \n...                    ...          ...      ...                 ...   \n150928           Champagne    Champagne      NaN     Champagne Blend   \n150929  Northeastern Italy   Alto Adige      NaN        Pinot Grigio   \n\n                         winery  \n0                         Heitz  \n1       Bodega Carmen Rodríguez  \n...                         ...  \n150928                   Gosset  \n150929            Alois Lageder  \n\n[150930 rows x 10 columns]",
            "text/html": "<div>\n<style scoped>\n    .dataframe tbody tr th:only-of-type {\n        vertical-align: middle;\n    }\n\n    .dataframe tbody tr th {\n        vertical-align: top;\n    }\n\n    .dataframe thead th {\n        text-align: right;\n    }\n</style>\n<table border=\"1\" class=\"dataframe\">\n  <thead>\n    <tr style=\"text-align: right;\">\n      <th></th>\n      <th>country</th>\n      <th>description</th>\n      <th>designation</th>\n      <th>points</th>\n      <th>price</th>\n      <th>province</th>\n      <th>region_1</th>\n      <th>region_2</th>\n      <th>variety</th>\n      <th>winery</th>\n    </tr>\n  </thead>\n  <tbody>\n    <tr>\n      <th>0</th>\n      <td>US</td>\n      <td>This tremendous 100% varietal wine hails from ...</td>\n      <td>Martha's Vineyard</td>\n      <td>96</td>\n      <td>235.0</td>\n      <td>California</td>\n      <td>Napa Valley</td>\n      <td>Napa</td>\n      <td>Cabernet Sauvignon</td>\n      <td>Heitz</td>\n    </tr>\n    <tr>\n      <th>1</th>\n      <td>Spain</td>\n      <td>Ripe aromas of fig, blackberry and cassis are ...</td>\n      <td>Carodorum Selección Especial Reserva</td>\n      <td>96</td>\n      <td>110.0</td>\n      <td>Northern Spain</td>\n      <td>Toro</td>\n      <td>NaN</td>\n      <td>Tinta de Toro</td>\n      <td>Bodega Carmen Rodríguez</td>\n    </tr>\n    <tr>\n      <th>...</th>\n      <td>...</td>\n      <td>...</td>\n      <td>...</td>\n      <td>...</td>\n      <td>...</td>\n      <td>...</td>\n      <td>...</td>\n      <td>...</td>\n      <td>...</td>\n      <td>...</td>\n    </tr>\n    <tr>\n      <th>150928</th>\n      <td>France</td>\n      <td>A perfect salmon shade, with scents of peaches...</td>\n      <td>Grand Brut Rosé</td>\n      <td>90</td>\n      <td>52.0</td>\n      <td>Champagne</td>\n      <td>Champagne</td>\n      <td>NaN</td>\n      <td>Champagne Blend</td>\n      <td>Gosset</td>\n    </tr>\n    <tr>\n      <th>150929</th>\n      <td>Italy</td>\n      <td>More Pinot Grigios should taste like this. A r...</td>\n      <td>NaN</td>\n      <td>90</td>\n      <td>15.0</td>\n      <td>Northeastern Italy</td>\n      <td>Alto Adige</td>\n      <td>NaN</td>\n      <td>Pinot Grigio</td>\n      <td>Alois Lageder</td>\n    </tr>\n  </tbody>\n</table>\n<p>150930 rows × 10 columns</p>\n</div>"
          },
          "metadata": {}
        }
      ],
      "execution_count": null
    },
    {
      "cell_type": "code",
      "source": [
        "q4.hint()\n",
        "q4.solution()"
      ],
      "metadata": {
        "trusted": true,
        "execution": {
          "iopub.status.busy": "2025-07-15T07:55:44.412546Z",
          "iopub.execute_input": "2025-07-15T07:55:44.412911Z",
          "iopub.status.idle": "2025-07-15T07:55:44.423901Z",
          "shell.execute_reply.started": "2025-07-15T07:55:44.412886Z",
          "shell.execute_reply": "2025-07-15T07:55:44.423204Z"
        },
        "id": "9Ul01ejk6vZd",
        "outputId": "8b5d7299-a6ee-47fc-a986-19fd6fccd941"
      },
      "outputs": [
        {
          "output_type": "display_data",
          "data": {
            "text/plain": "<IPython.core.display.Javascript object>",
            "application/javascript": "parent.postMessage({\"jupyterEvent\": \"custom.exercise_interaction\", \"data\": {\"interactionType\": 2, \"questionType\": 1, \"questionId\": \"4_ReadWineCsv\", \"learnToolsVersion\": \"0.3.5\", \"valueTowardsCompletion\": 0.0, \"failureMessage\": \"\", \"exceptionClass\": \"\", \"trace\": \"\", \"outcomeType\": 4}}, \"*\")"
          },
          "metadata": {}
        },
        {
          "output_type": "display_data",
          "data": {
            "text/plain": "Hint: Note that the csv file begins with an unnamed column of increasing integers. We want this to be used as the index. Check out the description of the `index_col` keyword argument in [the docs for `read_csv`](https://pandas.pydata.org/pandas-docs/stable/generated/pandas.read_csv.html).",
            "text/markdown": "<span style=\"color:#3366cc\">Hint:</span> Note that the csv file begins with an unnamed column of increasing integers. We want this to be used as the index. Check out the description of the `index_col` keyword argument in [the docs for `read_csv`](https://pandas.pydata.org/pandas-docs/stable/generated/pandas.read_csv.html)."
          },
          "metadata": {}
        },
        {
          "output_type": "display_data",
          "data": {
            "text/plain": "<IPython.core.display.Javascript object>",
            "application/javascript": "parent.postMessage({\"jupyterEvent\": \"custom.exercise_interaction\", \"data\": {\"interactionType\": 3, \"questionType\": 1, \"questionId\": \"4_ReadWineCsv\", \"learnToolsVersion\": \"0.3.5\", \"valueTowardsCompletion\": 0.0, \"failureMessage\": \"\", \"exceptionClass\": \"\", \"trace\": \"\", \"outcomeType\": 4}}, \"*\")"
          },
          "metadata": {}
        },
        {
          "output_type": "display_data",
          "data": {
            "text/plain": "Solution: \n```python\nreviews = pd.read_csv('../input/wine-reviews/winemag-data_first150k.csv', index_col=0)\n```",
            "text/markdown": "<span style=\"color:#33cc99\">Solution:</span> \n```python\nreviews = pd.read_csv('../input/wine-reviews/winemag-data_first150k.csv', index_col=0)\n```"
          },
          "metadata": {}
        }
      ],
      "execution_count": null
    },
    {
      "cell_type": "markdown",
      "source": [
        "## 5.\n",
        "\n",
        "Run the cell below to create and display a DataFrame called `animals`:"
      ],
      "metadata": {
        "id": "SOMP60106vZe"
      }
    },
    {
      "cell_type": "code",
      "source": [
        "animals = pd.DataFrame({'Cows': [12, 20], 'Goats': [22, 19]}, index=['Year 1', 'Year 2'])\n",
        "animals"
      ],
      "metadata": {
        "trusted": true,
        "execution": {
          "iopub.status.busy": "2025-07-15T07:57:42.90125Z",
          "iopub.execute_input": "2025-07-15T07:57:42.901606Z",
          "iopub.status.idle": "2025-07-15T07:57:42.911046Z",
          "shell.execute_reply.started": "2025-07-15T07:57:42.90158Z",
          "shell.execute_reply": "2025-07-15T07:57:42.910079Z"
        },
        "id": "uKfByLDK6vZf",
        "outputId": "62834f92-f824-43fa-9fe3-84fe3c843803"
      },
      "outputs": [
        {
          "execution_count": 32,
          "output_type": "execute_result",
          "data": {
            "text/plain": "        Cows  Goats\nYear 1    12     22\nYear 2    20     19",
            "text/html": "<div>\n<style scoped>\n    .dataframe tbody tr th:only-of-type {\n        vertical-align: middle;\n    }\n\n    .dataframe tbody tr th {\n        vertical-align: top;\n    }\n\n    .dataframe thead th {\n        text-align: right;\n    }\n</style>\n<table border=\"1\" class=\"dataframe\">\n  <thead>\n    <tr style=\"text-align: right;\">\n      <th></th>\n      <th>Cows</th>\n      <th>Goats</th>\n    </tr>\n  </thead>\n  <tbody>\n    <tr>\n      <th>Year 1</th>\n      <td>12</td>\n      <td>22</td>\n    </tr>\n    <tr>\n      <th>Year 2</th>\n      <td>20</td>\n      <td>19</td>\n    </tr>\n  </tbody>\n</table>\n</div>"
          },
          "metadata": {}
        }
      ],
      "execution_count": null
    },
    {
      "cell_type": "markdown",
      "source": [
        "In the cell below, write code to save this DataFrame to disk as a csv file with the name `cows_and_goats.csv`."
      ],
      "metadata": {
        "id": "taEGqv3a6vZf"
      }
    },
    {
      "cell_type": "code",
      "source": [
        "# Your code goes here\n",
        "animals.to_csv('cows_and_goats.csv')\n",
        "# Check your answer\n",
        "q5.check()"
      ],
      "metadata": {
        "trusted": true,
        "execution": {
          "iopub.status.busy": "2025-07-15T08:02:11.67003Z",
          "iopub.execute_input": "2025-07-15T08:02:11.67064Z",
          "iopub.status.idle": "2025-07-15T08:02:11.686246Z",
          "shell.execute_reply.started": "2025-07-15T08:02:11.670614Z",
          "shell.execute_reply": "2025-07-15T08:02:11.685588Z"
        },
        "id": "agGuiVaB6vZg",
        "outputId": "b631b5de-ea8b-4a8b-c12f-8f548f50ad6c"
      },
      "outputs": [
        {
          "output_type": "display_data",
          "data": {
            "text/plain": "<IPython.core.display.Javascript object>",
            "application/javascript": "parent.postMessage({\"jupyterEvent\": \"custom.exercise_interaction\", \"data\": {\"outcomeType\": 1, \"valueTowardsCompletion\": 0.16666666666666666, \"interactionType\": 1, \"questionType\": 2, \"questionId\": \"5_SaveAnimalsCsv\", \"learnToolsVersion\": \"0.3.5\", \"failureMessage\": \"\", \"exceptionClass\": \"\", \"trace\": \"\"}}, \"*\")"
          },
          "metadata": {}
        },
        {
          "output_type": "display_data",
          "data": {
            "text/plain": "Correct",
            "text/markdown": "<span style=\"color:#33cc33\">Correct</span>"
          },
          "metadata": {}
        }
      ],
      "execution_count": null
    },
    {
      "cell_type": "code",
      "source": [
        "q5.hint()\n",
        "q5.solution()"
      ],
      "metadata": {
        "trusted": true,
        "execution": {
          "iopub.status.busy": "2025-07-15T08:02:15.99198Z",
          "iopub.execute_input": "2025-07-15T08:02:15.992283Z",
          "iopub.status.idle": "2025-07-15T08:02:16.002425Z",
          "shell.execute_reply.started": "2025-07-15T08:02:15.99226Z",
          "shell.execute_reply": "2025-07-15T08:02:16.001635Z"
        },
        "id": "QMmNZGhZ6vZh",
        "outputId": "c07a043d-3dd5-42e2-ceb2-f34cd50fe0dc"
      },
      "outputs": [
        {
          "output_type": "display_data",
          "data": {
            "text/plain": "<IPython.core.display.Javascript object>",
            "application/javascript": "parent.postMessage({\"jupyterEvent\": \"custom.exercise_interaction\", \"data\": {\"interactionType\": 2, \"questionType\": 2, \"questionId\": \"5_SaveAnimalsCsv\", \"learnToolsVersion\": \"0.3.5\", \"valueTowardsCompletion\": 0.0, \"failureMessage\": \"\", \"exceptionClass\": \"\", \"trace\": \"\", \"outcomeType\": 4}}, \"*\")"
          },
          "metadata": {}
        },
        {
          "output_type": "display_data",
          "data": {
            "text/plain": "Hint: Use [`to_csv`](https://pandas.pydata.org/pandas-docs/stable/generated/pandas.DataFrame.to_csv.html) to save a DataFrame to a CSV file.",
            "text/markdown": "<span style=\"color:#3366cc\">Hint:</span> Use [`to_csv`](https://pandas.pydata.org/pandas-docs/stable/generated/pandas.DataFrame.to_csv.html) to save a DataFrame to a CSV file."
          },
          "metadata": {}
        },
        {
          "output_type": "display_data",
          "data": {
            "text/plain": "<IPython.core.display.Javascript object>",
            "application/javascript": "parent.postMessage({\"jupyterEvent\": \"custom.exercise_interaction\", \"data\": {\"interactionType\": 3, \"questionType\": 2, \"questionId\": \"5_SaveAnimalsCsv\", \"learnToolsVersion\": \"0.3.5\", \"valueTowardsCompletion\": 0.0, \"failureMessage\": \"\", \"exceptionClass\": \"\", \"trace\": \"\", \"outcomeType\": 4}}, \"*\")"
          },
          "metadata": {}
        },
        {
          "output_type": "display_data",
          "data": {
            "text/plain": "Solution: \n```python\nanimals.to_csv(\"cows_and_goats.csv\")\n```",
            "text/markdown": "<span style=\"color:#33cc99\">Solution:</span> \n```python\nanimals.to_csv(\"cows_and_goats.csv\")\n```"
          },
          "metadata": {}
        }
      ],
      "execution_count": null
    },
    {
      "cell_type": "markdown",
      "source": [
        "# Keep going\n",
        "\n",
        "Move on to learn about **[indexing, selecting and assigning](https://www.kaggle.com/residentmario/indexing-selecting-assigning)**."
      ],
      "metadata": {
        "id": "fDpfb2YT6vZh"
      }
    },
    {
      "cell_type": "markdown",
      "source": [
        "---\n",
        "\n",
        "\n",
        "\n",
        "\n",
        "*Have questions or comments? Visit the [course discussion forum](https://www.kaggle.com/learn/pandas/discussion) to chat with other learners.*"
      ],
      "metadata": {
        "id": "5Z_MPZ1S6vZi"
      }
    }
  ]
}
