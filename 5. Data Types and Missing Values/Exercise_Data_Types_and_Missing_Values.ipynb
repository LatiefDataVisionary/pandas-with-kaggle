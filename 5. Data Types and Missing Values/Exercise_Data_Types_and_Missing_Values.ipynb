{
  "metadata": {
    "kernelspec": {
      "display_name": "Python 3",
      "language": "python",
      "name": "python3"
    },
    "language_info": {
      "name": "python",
      "version": "3.11.13",
      "mimetype": "text/x-python",
      "codemirror_mode": {
        "name": "ipython",
        "version": 3
      },
      "pygments_lexer": "ipython3",
      "nbconvert_exporter": "python",
      "file_extension": ".py"
    },
    "kaggle": {
      "accelerator": "none",
      "dataSources": [
        {
          "sourceId": 1252,
          "sourceType": "datasetVersion",
          "datasetId": 655
        },
        {
          "sourceId": 3919,
          "sourceType": "datasetVersion",
          "datasetId": 2321
        },
        {
          "sourceId": 4877,
          "sourceType": "datasetVersion",
          "datasetId": 2894
        },
        {
          "sourceId": 5624,
          "sourceType": "datasetVersion",
          "datasetId": 3491
        },
        {
          "sourceId": 8172,
          "sourceType": "datasetVersion",
          "datasetId": 1442
        },
        {
          "sourceId": 13206,
          "sourceType": "datasetVersion",
          "datasetId": 9366
        },
        {
          "sourceId": 403916,
          "sourceType": "datasetVersion",
          "datasetId": 179555
        },
        {
          "sourceId": 466349,
          "sourceType": "datasetVersion",
          "datasetId": 4549
        },
        {
          "sourceId": 1151655,
          "sourceType": "datasetVersion",
          "datasetId": 2478
        },
        {
          "sourceId": 5438389,
          "sourceType": "datasetVersion",
          "datasetId": 10128
        }
      ],
      "isInternetEnabled": false,
      "language": "python",
      "sourceType": "notebook",
      "isGpuEnabled": false
    },
    "colab": {
      "name": "Exercise: Data Types and Missing Values",
      "provenance": [],
      "include_colab_link": true
    }
  },
  "nbformat_minor": 0,
  "nbformat": 4,
  "cells": [
    {
      "cell_type": "markdown",
      "metadata": {
        "id": "view-in-github",
        "colab_type": "text"
      },
      "source": [
        "<a href=\"https://colab.research.google.com/github/LatiefDataVisionary/pandas-with-kaggle/blob/main/Exercise_Data_Types_and_Missing_Values.ipynb\" target=\"_parent\"><img src=\"https://colab.research.google.com/assets/colab-badge.svg\" alt=\"Open In Colab\"/></a>"
      ]
    },
    {
      "source": [
        "# IMPORTANT: RUN THIS CELL IN ORDER TO IMPORT YOUR KAGGLE DATA SOURCES,\n",
        "# THEN FEEL FREE TO DELETE THIS CELL.\n",
        "# NOTE: THIS NOTEBOOK ENVIRONMENT DIFFERS FROM KAGGLE'S PYTHON\n",
        "# ENVIRONMENT SO THERE MAY BE MISSING LIBRARIES USED BY YOUR\n",
        "# NOTEBOOK.\n",
        "import kagglehub\n",
        "nolanbconaway_pitchfork_data_path = kagglehub.dataset_download('nolanbconaway/pitchfork-data')\n",
        "datasnaek_chess_path = kagglehub.dataset_download('datasnaek/chess')\n",
        "nasa_kepler_exoplanet_search_results_path = kagglehub.dataset_download('nasa/kepler-exoplanet-search-results')\n",
        "residentmario_things_on_reddit_path = kagglehub.dataset_download('residentmario/things-on-reddit')\n",
        "zynicide_wine_reviews_path = kagglehub.dataset_download('zynicide/wine-reviews')\n",
        "residentmario_ramen_ratings_path = kagglehub.dataset_download('residentmario/ramen-ratings')\n",
        "dansbecker_powerlifting_database_path = kagglehub.dataset_download('dansbecker/powerlifting-database')\n",
        "datasnaek_youtube_new_path = kagglehub.dataset_download('datasnaek/youtube-new')\n",
        "rtatman_188_million_us_wildfires_path = kagglehub.dataset_download('rtatman/188-million-us-wildfires')\n",
        "jpmiller_publicassistance_path = kagglehub.dataset_download('jpmiller/publicassistance')\n",
        "\n",
        "print('Data source import complete.')\n"
      ],
      "metadata": {
        "id": "b3V5JCfTtw2x"
      },
      "cell_type": "code",
      "outputs": [],
      "execution_count": null
    },
    {
      "cell_type": "markdown",
      "source": [
        "**This notebook is an exercise in the [Pandas](https://www.kaggle.com/learn/pandas) course.  You can reference the tutorial at [this link](https://www.kaggle.com/residentmario/data-types-and-missing-values).**\n",
        "\n",
        "---\n"
      ],
      "metadata": {
        "id": "Hcq8Tl9gtw20"
      }
    },
    {
      "cell_type": "markdown",
      "source": [
        "# Introduction\n",
        "\n",
        "Run the following cell to load your data and some utility functions."
      ],
      "metadata": {
        "id": "5EY4rZeDtw22"
      }
    },
    {
      "cell_type": "code",
      "source": [
        "import pandas as pd\n",
        "\n",
        "reviews = pd.read_csv(\"../input/wine-reviews/winemag-data-130k-v2.csv\", index_col=0)\n",
        "\n",
        "from learntools.core import binder; binder.bind(globals())\n",
        "from learntools.pandas.data_types_and_missing_data import *\n",
        "print(\"Setup complete.\")"
      ],
      "metadata": {
        "trusted": true,
        "execution": {
          "iopub.status.busy": "2025-07-17T04:29:52.989329Z",
          "iopub.execute_input": "2025-07-17T04:29:52.989633Z",
          "iopub.status.idle": "2025-07-17T04:29:58.369588Z",
          "shell.execute_reply.started": "2025-07-17T04:29:52.989603Z",
          "shell.execute_reply": "2025-07-17T04:29:58.368469Z"
        },
        "id": "8-KIXlxltw22",
        "outputId": "8169d60b-342e-44b1-8525-dc105813c412"
      },
      "outputs": [
        {
          "name": "stdout",
          "text": "Setup complete.\n",
          "output_type": "stream"
        }
      ],
      "execution_count": null
    },
    {
      "cell_type": "markdown",
      "source": [
        "# Exercises"
      ],
      "metadata": {
        "id": "5ANfBUoCtw23"
      }
    },
    {
      "cell_type": "markdown",
      "source": [
        "## 1.\n",
        "What is the data type of the `points` column in the dataset?"
      ],
      "metadata": {
        "id": "WhWx7i2Otw24"
      }
    },
    {
      "cell_type": "code",
      "source": [
        "# Your code here\n",
        "dtype = reviews.points.dtype\n",
        "\n",
        "# Check your answer\n",
        "q1.check()"
      ],
      "metadata": {
        "trusted": true,
        "execution": {
          "iopub.status.busy": "2025-07-17T04:30:09.729585Z",
          "iopub.execute_input": "2025-07-17T04:30:09.72994Z",
          "iopub.status.idle": "2025-07-17T04:30:09.740669Z",
          "shell.execute_reply.started": "2025-07-17T04:30:09.729914Z",
          "shell.execute_reply": "2025-07-17T04:30:09.739706Z"
        },
        "id": "h4LkWW8Stw24",
        "outputId": "5c13e62d-0f49-46bc-d290-6cc8c419c039"
      },
      "outputs": [
        {
          "output_type": "display_data",
          "data": {
            "text/plain": "<IPython.core.display.Javascript object>",
            "application/javascript": "parent.postMessage({\"jupyterEvent\": \"custom.exercise_interaction\", \"data\": {\"outcomeType\": 1, \"valueTowardsCompletion\": 0.25, \"interactionType\": 1, \"questionType\": 1, \"questionId\": \"1_PointsDtype\", \"learnToolsVersion\": \"0.3.5\", \"failureMessage\": \"\", \"exceptionClass\": \"\", \"trace\": \"\"}}, \"*\")"
          },
          "metadata": {}
        },
        {
          "output_type": "display_data",
          "data": {
            "text/plain": "Correct",
            "text/markdown": "<span style=\"color:#33cc33\">Correct</span>"
          },
          "metadata": {}
        }
      ],
      "execution_count": null
    },
    {
      "cell_type": "code",
      "source": [
        "q1.hint()\n",
        "q1.solution()"
      ],
      "metadata": {
        "trusted": true,
        "execution": {
          "iopub.status.busy": "2025-07-17T04:30:14.639561Z",
          "iopub.execute_input": "2025-07-17T04:30:14.639906Z",
          "iopub.status.idle": "2025-07-17T04:30:14.652138Z",
          "shell.execute_reply.started": "2025-07-17T04:30:14.639878Z",
          "shell.execute_reply": "2025-07-17T04:30:14.651034Z"
        },
        "id": "ldqLoYA0tw24",
        "outputId": "d261eb5b-4e4e-45a1-f43c-30fd0a189303"
      },
      "outputs": [
        {
          "output_type": "display_data",
          "data": {
            "text/plain": "<IPython.core.display.Javascript object>",
            "application/javascript": "parent.postMessage({\"jupyterEvent\": \"custom.exercise_interaction\", \"data\": {\"interactionType\": 2, \"questionType\": 1, \"questionId\": \"1_PointsDtype\", \"learnToolsVersion\": \"0.3.5\", \"valueTowardsCompletion\": 0.0, \"failureMessage\": \"\", \"exceptionClass\": \"\", \"trace\": \"\", \"outcomeType\": 4}}, \"*\")"
          },
          "metadata": {}
        },
        {
          "output_type": "display_data",
          "data": {
            "text/plain": "Hint: `dtype` is an attribute of a DataFrame or Series.",
            "text/markdown": "<span style=\"color:#3366cc\">Hint:</span> `dtype` is an attribute of a DataFrame or Series."
          },
          "metadata": {}
        },
        {
          "output_type": "display_data",
          "data": {
            "text/plain": "<IPython.core.display.Javascript object>",
            "application/javascript": "parent.postMessage({\"jupyterEvent\": \"custom.exercise_interaction\", \"data\": {\"interactionType\": 3, \"questionType\": 1, \"questionId\": \"1_PointsDtype\", \"learnToolsVersion\": \"0.3.5\", \"valueTowardsCompletion\": 0.0, \"failureMessage\": \"\", \"exceptionClass\": \"\", \"trace\": \"\", \"outcomeType\": 4}}, \"*\")"
          },
          "metadata": {}
        },
        {
          "output_type": "display_data",
          "data": {
            "text/plain": "Solution: \n```python\ndtype = reviews.points.dtype\n```",
            "text/markdown": "<span style=\"color:#33cc99\">Solution:</span> \n```python\ndtype = reviews.points.dtype\n```"
          },
          "metadata": {}
        }
      ],
      "execution_count": null
    },
    {
      "cell_type": "markdown",
      "source": [
        "## 2.\n",
        "Create a Series from entries in the `points` column, but convert the entries to strings. Hint: strings are `str` in native Python."
      ],
      "metadata": {
        "id": "Vh-KzJN_tw25"
      }
    },
    {
      "cell_type": "code",
      "source": [
        "point_strings = reviews.points.astype('str')\n",
        "\n",
        "# Check your answer\n",
        "q2.check()"
      ],
      "metadata": {
        "trusted": true,
        "execution": {
          "iopub.status.busy": "2025-07-17T04:30:55.059739Z",
          "iopub.execute_input": "2025-07-17T04:30:55.060144Z",
          "iopub.status.idle": "2025-07-17T04:30:55.106994Z",
          "shell.execute_reply.started": "2025-07-17T04:30:55.060113Z",
          "shell.execute_reply": "2025-07-17T04:30:55.105623Z"
        },
        "id": "LijinHHLtw25",
        "outputId": "61427bba-a897-4b26-c749-04d9e275339f"
      },
      "outputs": [
        {
          "output_type": "display_data",
          "data": {
            "text/plain": "<IPython.core.display.Javascript object>",
            "application/javascript": "parent.postMessage({\"jupyterEvent\": \"custom.exercise_interaction\", \"data\": {\"outcomeType\": 1, \"valueTowardsCompletion\": 0.25, \"interactionType\": 1, \"questionType\": 1, \"questionId\": \"2_StrPoints\", \"learnToolsVersion\": \"0.3.5\", \"failureMessage\": \"\", \"exceptionClass\": \"\", \"trace\": \"\"}}, \"*\")"
          },
          "metadata": {}
        },
        {
          "output_type": "display_data",
          "data": {
            "text/plain": "Correct",
            "text/markdown": "<span style=\"color:#33cc33\">Correct</span>"
          },
          "metadata": {}
        }
      ],
      "execution_count": null
    },
    {
      "cell_type": "code",
      "source": [
        "q2.hint()\n",
        "q2.solution()"
      ],
      "metadata": {
        "trusted": true,
        "execution": {
          "iopub.status.busy": "2025-07-17T04:30:59.60955Z",
          "iopub.execute_input": "2025-07-17T04:30:59.609921Z",
          "iopub.status.idle": "2025-07-17T04:30:59.621475Z",
          "shell.execute_reply.started": "2025-07-17T04:30:59.60985Z",
          "shell.execute_reply": "2025-07-17T04:30:59.620399Z"
        },
        "id": "J1O29GSStw26",
        "outputId": "20df5a30-6a2b-47db-8167-4a4d27fc4496"
      },
      "outputs": [
        {
          "output_type": "display_data",
          "data": {
            "text/plain": "<IPython.core.display.Javascript object>",
            "application/javascript": "parent.postMessage({\"jupyterEvent\": \"custom.exercise_interaction\", \"data\": {\"interactionType\": 2, \"questionType\": 1, \"questionId\": \"2_StrPoints\", \"learnToolsVersion\": \"0.3.5\", \"valueTowardsCompletion\": 0.0, \"failureMessage\": \"\", \"exceptionClass\": \"\", \"trace\": \"\", \"outcomeType\": 4}}, \"*\")"
          },
          "metadata": {}
        },
        {
          "output_type": "display_data",
          "data": {
            "text/plain": "Hint: Convert a column of one type to another by using the `astype` function.",
            "text/markdown": "<span style=\"color:#3366cc\">Hint:</span> Convert a column of one type to another by using the `astype` function."
          },
          "metadata": {}
        },
        {
          "output_type": "display_data",
          "data": {
            "text/plain": "<IPython.core.display.Javascript object>",
            "application/javascript": "parent.postMessage({\"jupyterEvent\": \"custom.exercise_interaction\", \"data\": {\"interactionType\": 3, \"questionType\": 1, \"questionId\": \"2_StrPoints\", \"learnToolsVersion\": \"0.3.5\", \"valueTowardsCompletion\": 0.0, \"failureMessage\": \"\", \"exceptionClass\": \"\", \"trace\": \"\", \"outcomeType\": 4}}, \"*\")"
          },
          "metadata": {}
        },
        {
          "output_type": "display_data",
          "data": {
            "text/plain": "Solution: \n```python\npoint_strings = reviews.points.astype(str)\n```",
            "text/markdown": "<span style=\"color:#33cc99\">Solution:</span> \n```python\npoint_strings = reviews.points.astype(str)\n```"
          },
          "metadata": {}
        }
      ],
      "execution_count": null
    },
    {
      "cell_type": "markdown",
      "source": [
        "## 3.\n",
        "Sometimes the price column is null. How many reviews in the dataset are missing a price?"
      ],
      "metadata": {
        "id": "X6apmkUQtw26"
      }
    },
    {
      "cell_type": "code",
      "source": [
        "n_missing_prices = len(reviews[pd.isnull(reviews.price)])\n",
        "print(n_missing_prices)\n",
        "\n",
        "# Check your answer\n",
        "q3.check()"
      ],
      "metadata": {
        "trusted": true,
        "execution": {
          "iopub.status.busy": "2025-07-17T04:42:38.823746Z",
          "iopub.execute_input": "2025-07-17T04:42:38.82474Z",
          "iopub.status.idle": "2025-07-17T04:42:38.837744Z",
          "shell.execute_reply.started": "2025-07-17T04:42:38.824708Z",
          "shell.execute_reply": "2025-07-17T04:42:38.836937Z"
        },
        "id": "50vbn1fUtw27",
        "outputId": "1846c50a-3ba1-49d8-80ee-80fb66eb52e9"
      },
      "outputs": [
        {
          "name": "stdout",
          "text": "8996\n",
          "output_type": "stream"
        },
        {
          "output_type": "display_data",
          "data": {
            "text/plain": "<IPython.core.display.Javascript object>",
            "application/javascript": "parent.postMessage({\"jupyterEvent\": \"custom.exercise_interaction\", \"data\": {\"outcomeType\": 1, \"valueTowardsCompletion\": 0.25, \"interactionType\": 1, \"questionType\": 1, \"questionId\": \"3_CountMissingPrices\", \"learnToolsVersion\": \"0.3.5\", \"failureMessage\": \"\", \"exceptionClass\": \"\", \"trace\": \"\"}}, \"*\")"
          },
          "metadata": {}
        },
        {
          "output_type": "display_data",
          "data": {
            "text/plain": "Correct",
            "text/markdown": "<span style=\"color:#33cc33\">Correct</span>"
          },
          "metadata": {}
        }
      ],
      "execution_count": null
    },
    {
      "cell_type": "code",
      "source": [
        "q3.hint()\n",
        "q3.solution()"
      ],
      "metadata": {
        "trusted": true,
        "execution": {
          "iopub.status.busy": "2025-07-17T04:40:28.994067Z",
          "iopub.execute_input": "2025-07-17T04:40:28.994383Z",
          "iopub.status.idle": "2025-07-17T04:40:29.005522Z",
          "shell.execute_reply.started": "2025-07-17T04:40:28.994359Z",
          "shell.execute_reply": "2025-07-17T04:40:29.004569Z"
        },
        "id": "G6TGFgnntw27",
        "outputId": "553d7ec3-d78b-4ec7-e1a6-af080282943b"
      },
      "outputs": [
        {
          "output_type": "display_data",
          "data": {
            "text/plain": "<IPython.core.display.Javascript object>",
            "application/javascript": "parent.postMessage({\"jupyterEvent\": \"custom.exercise_interaction\", \"data\": {\"interactionType\": 2, \"questionType\": 1, \"questionId\": \"3_CountMissingPrices\", \"learnToolsVersion\": \"0.3.5\", \"valueTowardsCompletion\": 0.0, \"failureMessage\": \"\", \"exceptionClass\": \"\", \"trace\": \"\", \"outcomeType\": 4}}, \"*\")"
          },
          "metadata": {}
        },
        {
          "output_type": "display_data",
          "data": {
            "text/plain": "Hint: Use `pd.isnull()`.",
            "text/markdown": "<span style=\"color:#3366cc\">Hint:</span> Use `pd.isnull()`."
          },
          "metadata": {}
        },
        {
          "output_type": "display_data",
          "data": {
            "text/plain": "<IPython.core.display.Javascript object>",
            "application/javascript": "parent.postMessage({\"jupyterEvent\": \"custom.exercise_interaction\", \"data\": {\"interactionType\": 3, \"questionType\": 1, \"questionId\": \"3_CountMissingPrices\", \"learnToolsVersion\": \"0.3.5\", \"valueTowardsCompletion\": 0.0, \"failureMessage\": \"\", \"exceptionClass\": \"\", \"trace\": \"\", \"outcomeType\": 4}}, \"*\")"
          },
          "metadata": {}
        },
        {
          "output_type": "display_data",
          "data": {
            "text/plain": "Solution: \n```python\nmissing_price_reviews = reviews[reviews.price.isnull()]\nn_missing_prices = len(missing_price_reviews)\n# Cute alternative solution: if we sum a boolean series, True is treated as 1 and False as 0\nn_missing_prices = reviews.price.isnull().sum()\n# or equivalently:\nn_missing_prices = pd.isnull(reviews.price).sum()\n\n```",
            "text/markdown": "<span style=\"color:#33cc99\">Solution:</span> \n```python\nmissing_price_reviews = reviews[reviews.price.isnull()]\nn_missing_prices = len(missing_price_reviews)\n# Cute alternative solution: if we sum a boolean series, True is treated as 1 and False as 0\nn_missing_prices = reviews.price.isnull().sum()\n# or equivalently:\nn_missing_prices = pd.isnull(reviews.price).sum()\n\n```"
          },
          "metadata": {}
        }
      ],
      "execution_count": null
    },
    {
      "cell_type": "markdown",
      "source": [
        "## 4.\n",
        "What are the most common wine-producing regions? Create a Series counting the number of times each value occurs in the `region_1` field. This field is often missing data, so replace missing values with `Unknown`. Sort in descending order.  Your output should look something like this:\n",
        "\n",
        "```\n",
        "Unknown                    21247\n",
        "Napa Valley                 4480\n",
        "                           ...  \n",
        "Bardolino Superiore            1\n",
        "Primitivo del Tarantino        1\n",
        "Name: region_1, Length: 1230, dtype: int64\n",
        "```"
      ],
      "metadata": {
        "id": "HwhhWyZstw28"
      }
    },
    {
      "cell_type": "code",
      "source": [
        "reviews_per_region = reviews.region_1.fillna('Unknown').value_counts().sort_values(ascending=False)\n",
        "print(reviews_per_region)\n",
        "\n",
        "# Check your answer\n",
        "q4.check()"
      ],
      "metadata": {
        "trusted": true,
        "execution": {
          "iopub.status.busy": "2025-07-17T04:48:57.282454Z",
          "iopub.execute_input": "2025-07-17T04:48:57.283922Z",
          "iopub.status.idle": "2025-07-17T04:48:57.342442Z",
          "shell.execute_reply.started": "2025-07-17T04:48:57.283851Z",
          "shell.execute_reply": "2025-07-17T04:48:57.341464Z"
        },
        "id": "Xr8ktZKgtw28",
        "outputId": "a59eea06-0aae-4a9d-c368-9ad40dc24ae4"
      },
      "outputs": [
        {
          "name": "stdout",
          "text": "region_1\nUnknown                 21247\nNapa Valley              4480\nColumbia Valley (WA)     4124\nRussian River Valley     3091\nCalifornia               2629\n                        ...  \nOffida Rosso                1\nCorton Perrières            1\nIsle St. George             1\nGeelong                     1\nPaestum                     1\nName: count, Length: 1230, dtype: int64\n",
          "output_type": "stream"
        },
        {
          "output_type": "display_data",
          "data": {
            "text/plain": "<IPython.core.display.Javascript object>",
            "application/javascript": "parent.postMessage({\"jupyterEvent\": \"custom.exercise_interaction\", \"data\": {\"outcomeType\": 1, \"valueTowardsCompletion\": 0.25, \"interactionType\": 1, \"questionType\": 2, \"questionId\": \"4_ReviewsPerRegion\", \"learnToolsVersion\": \"0.3.5\", \"failureMessage\": \"\", \"exceptionClass\": \"\", \"trace\": \"\"}}, \"*\")"
          },
          "metadata": {}
        },
        {
          "output_type": "display_data",
          "data": {
            "text/plain": "Correct",
            "text/markdown": "<span style=\"color:#33cc33\">Correct</span>"
          },
          "metadata": {}
        }
      ],
      "execution_count": null
    },
    {
      "cell_type": "code",
      "source": [
        "q4.hint()\n",
        "q4.solution()"
      ],
      "metadata": {
        "trusted": true,
        "execution": {
          "iopub.status.busy": "2025-07-17T04:48:18.785302Z",
          "iopub.execute_input": "2025-07-17T04:48:18.78561Z",
          "iopub.status.idle": "2025-07-17T04:48:18.797135Z",
          "shell.execute_reply.started": "2025-07-17T04:48:18.785589Z",
          "shell.execute_reply": "2025-07-17T04:48:18.796057Z"
        },
        "id": "iJmPqT0Utw28",
        "outputId": "32a4d707-1a06-4094-c01e-238e7b2f4dd9"
      },
      "outputs": [
        {
          "output_type": "display_data",
          "data": {
            "text/plain": "<IPython.core.display.Javascript object>",
            "application/javascript": "parent.postMessage({\"jupyterEvent\": \"custom.exercise_interaction\", \"data\": {\"interactionType\": 2, \"questionType\": 2, \"questionId\": \"4_ReviewsPerRegion\", \"learnToolsVersion\": \"0.3.5\", \"valueTowardsCompletion\": 0.0, \"failureMessage\": \"\", \"exceptionClass\": \"\", \"trace\": \"\", \"outcomeType\": 4}}, \"*\")"
          },
          "metadata": {}
        },
        {
          "output_type": "display_data",
          "data": {
            "text/plain": "Hint: Use `fillna()`, `value_counts()`, and `sort_values()`.",
            "text/markdown": "<span style=\"color:#3366cc\">Hint:</span> Use `fillna()`, `value_counts()`, and `sort_values()`."
          },
          "metadata": {}
        },
        {
          "output_type": "display_data",
          "data": {
            "text/plain": "<IPython.core.display.Javascript object>",
            "application/javascript": "parent.postMessage({\"jupyterEvent\": \"custom.exercise_interaction\", \"data\": {\"interactionType\": 3, \"questionType\": 2, \"questionId\": \"4_ReviewsPerRegion\", \"learnToolsVersion\": \"0.3.5\", \"valueTowardsCompletion\": 0.0, \"failureMessage\": \"\", \"exceptionClass\": \"\", \"trace\": \"\", \"outcomeType\": 4}}, \"*\")"
          },
          "metadata": {}
        },
        {
          "output_type": "display_data",
          "data": {
            "text/plain": "Solution: \n```python\nreviews_per_region = reviews.region_1.fillna('Unknown').value_counts().sort_values(ascending=False)\n```",
            "text/markdown": "<span style=\"color:#33cc99\">Solution:</span> \n```python\nreviews_per_region = reviews.region_1.fillna('Unknown').value_counts().sort_values(ascending=False)\n```"
          },
          "metadata": {}
        }
      ],
      "execution_count": null
    },
    {
      "cell_type": "markdown",
      "source": [
        "# Keep going\n",
        "\n",
        "Move on to **[renaming and combining](https://www.kaggle.com/residentmario/renaming-and-combining)**."
      ],
      "metadata": {
        "id": "SLSXcC3Ytw29"
      }
    },
    {
      "cell_type": "markdown",
      "source": [
        "---\n",
        "\n",
        "\n",
        "\n",
        "\n",
        "*Have questions or comments? Visit the [course discussion forum](https://www.kaggle.com/learn/pandas/discussion) to chat with other learners.*"
      ],
      "metadata": {
        "id": "GwNbunM8tw2-"
      }
    }
  ]
}
